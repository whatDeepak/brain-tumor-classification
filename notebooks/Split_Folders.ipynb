{
 "cells": [
  {
   "cell_type": "code",
   "execution_count": 1,
   "metadata": {},
   "outputs": [],
   "source": [
    "import splitfolders"
   ]
  },
  {
   "cell_type": "code",
   "execution_count": 2,
   "metadata": {},
   "outputs": [
    {
     "name": "stderr",
     "output_type": "stream",
     "text": [
      "Copying files: 3064 files [00:03, 807.59 files/s]"
     ]
    },
    {
     "name": "stdout",
     "output_type": "stream",
     "text": [
      "Dataset split successfully!\n"
     ]
    },
    {
     "name": "stderr",
     "output_type": "stream",
     "text": [
      "\n"
     ]
    }
   ],
   "source": [
    "# Path to your dataset\n",
    "input_folder = r'C:\\_D\\Uni\\Minor Project\\brain-tumor-classification\\dataset\\images'  # Update this to your actual dataset path\n",
    "output_folder = r'C:\\_D\\Uni\\Minor Project\\brain-tumor-classification\\dataset\\split_images'  # Directory where split data will be saved\n",
    "\n",
    "# Split the dataset into train (80%), validation (10%), and test (10%)\n",
    "splitfolders.ratio(\n",
    "    input_folder, \n",
    "    output=output_folder, \n",
    "    seed=42, \n",
    "    ratio=(.8, .1, .1)  # Adjust ratios if needed\n",
    ")\n",
    "\n",
    "print(\"Dataset split successfully!\")"
   ]
  }
 ],
 "metadata": {
  "kernelspec": {
   "display_name": "venv",
   "language": "python",
   "name": "python3"
  },
  "language_info": {
   "codemirror_mode": {
    "name": "ipython",
    "version": 3
   },
   "file_extension": ".py",
   "mimetype": "text/x-python",
   "name": "python",
   "nbconvert_exporter": "python",
   "pygments_lexer": "ipython3",
   "version": "3.12.5"
  }
 },
 "nbformat": 4,
 "nbformat_minor": 2
}
