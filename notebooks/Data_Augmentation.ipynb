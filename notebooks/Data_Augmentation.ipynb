{
 "cells": [
  {
   "cell_type": "code",
   "execution_count": 1,
   "metadata": {},
   "outputs": [],
   "source": [
    "import tensorflow as tf\n",
    "from keras_preprocessing.image import ImageDataGenerator\n",
    "import cv2\n",
    "import matplotlib.pyplot as plt\n",
    "import os\n",
    "from os import listdir, path\n",
    "import time    \n",
    "\n",
    "%matplotlib inline"
   ]
  },
  {
   "cell_type": "code",
   "execution_count": 2,
   "metadata": {},
   "outputs": [],
   "source": [
    "# Time string formatting\n",
    "def hms_string(sec_elapsed):\n",
    "    h = int(sec_elapsed / (60 * 60))\n",
    "    m = int((sec_elapsed % (60 * 60)) / 60)\n",
    "    s = sec_elapsed % 60\n",
    "    return f\"{h}:{m}:{round(s,1)}\""
   ]
  },
  {
   "cell_type": "code",
   "execution_count": 3,
   "metadata": {},
   "outputs": [],
   "source": [
    "# Augmenting data function\n",
    "def augment_data(file_dir, target_count, save_to_dir):\n",
    "    os.makedirs(save_to_dir, exist_ok=True)  # Ensure save directory exists\n",
    "    data_gen = ImageDataGenerator(\n",
    "        rotation_range=10,\n",
    "        width_shift_range=0.1,\n",
    "        height_shift_range=0.1,\n",
    "        horizontal_flip=True,\n",
    "        vertical_flip=True,\n",
    "        fill_mode='nearest'\n",
    "    )\n",
    "\n",
    "    samples_to_generate = target_count  # Calculate the required samples to generate\n",
    "\n",
    "    if samples_to_generate <= 0:\n",
    "        print(f\"No need to augment {file_dir} (already has samples).\")\n",
    "        return\n",
    "\n",
    "    print(f\"Augmenting {file_dir}: Generating samples...\")\n",
    "\n",
    "    # Generate the required number of samples\n",
    "    i = 0\n",
    "    for filename in listdir(file_dir):\n",
    "        file_path = os.path.join(file_dir, filename)\n",
    "        # Load the image\n",
    "        image = cv2.imread(file_path)\n",
    "        if image is None:\n",
    "            print(f\"Skipped file: {filename} (invalid image)\")\n",
    "            continue\n",
    "        # Reshape the image\n",
    "        image = image.reshape((1,) + image.shape)\n",
    "        # Prefix for generated sample names\n",
    "        save_prefix = 'aug_' + os.path.splitext(filename)[0]\n",
    "        # Generate 'samples_to_generate' sample images\n",
    "        for batch in data_gen.flow(\n",
    "            x=image, \n",
    "            batch_size=1, \n",
    "            save_to_dir=save_to_dir, \n",
    "            save_prefix=save_prefix, \n",
    "            save_format='png'\n",
    "        ):\n",
    "            i += 1\n",
    "            if i >= samples_to_generate:\n",
    "                return  # Stop once the required samples are generated"
   ]
  },
  {
   "cell_type": "code",
   "execution_count": 4,
   "metadata": {},
   "outputs": [
    {
     "name": "stdout",
     "output_type": "stream",
     "text": [
      "Augmenting C:/_D/Uni/Minor Project/brain-tumor-classification/dataset\\cropped/train\\1: Generating samples...\n",
      "Augmenting C:/_D/Uni/Minor Project/brain-tumor-classification/dataset\\cropped/train\\2: Generating samples...\n",
      "Augmenting C:/_D/Uni/Minor Project/brain-tumor-classification/dataset\\cropped/train\\3: Generating samples...\n",
      "Elapsed time: 0:4:14.0\n"
     ]
    }
   ],
   "source": [
    "# Paths to original and augmented data directories\n",
    "base_dir = r'C:/_D/Uni/Minor Project/brain-tumor-classification/dataset'\n",
    "cropped_dir = os.path.join(base_dir, 'cropped/train')\n",
    "augmented_dir = os.path.join(base_dir, 'augmented/train')\n",
    "\n",
    "# Class mappings for tumor types\n",
    "class_counts = {\n",
    "    '1': 'Glioma', \n",
    "    '2': 'Meningioma', \n",
    "    '3': 'Pituitary Tumor'\n",
    "}\n",
    "\n",
    "# 1. Find the maximum class size\n",
    "max_existing_count = 0\n",
    "for class_id in class_counts.keys():\n",
    "    class_cropped_path = os.path.join(cropped_dir, class_id)\n",
    "    class_count = len(listdir(class_cropped_path))\n",
    "    if class_count > max_existing_count:\n",
    "        max_existing_count = class_count\n",
    "\n",
    "# 2. Generate 5 times the maximum existing count as the target count\n",
    "target_count = max_existing_count * 5\n",
    "\n",
    "# 3. Perform data augmentation for all classes\n",
    "start_time = time.time()\n",
    "for class_id, tumor_name in class_counts.items():\n",
    "    class_cropped_path = os.path.join(cropped_dir, class_id)\n",
    "    class_augmented_path = os.path.join(augmented_dir, class_id)\n",
    "    augment_data(file_dir=class_cropped_path, target_count=target_count, save_to_dir=class_augmented_path)\n",
    "\n",
    "end_time = time.time()\n",
    "execution_time = end_time - start_time\n",
    "print(f\"Elapsed time: {hms_string(execution_time)}\")"
   ]
  },
  {
   "cell_type": "markdown",
   "metadata": {},
   "source": [
    "Let's see how many glioma, meningioma and pituitary tumor examples are there after performing data augmentation:"
   ]
  },
  {
   "cell_type": "code",
   "execution_count": 5,
   "metadata": {},
   "outputs": [],
   "source": [
    "# Summary function to print dataset information\n",
    "def data_summary(main_path):\n",
    "    tumor_counts = {}\n",
    "    for dir_num, tumor_name in class_counts.items():\n",
    "        dir_path = f\"{main_path}/{dir_num}/\"\n",
    "        tumor_counts[tumor_name] = len(listdir(dir_path))\n",
    "    \n",
    "    total_count = sum(tumor_counts.values())\n",
    "    print(f\"Number of examples: {total_count}\")\n",
    "    \n",
    "    for tumor_name, count in tumor_counts.items():\n",
    "        percentage = (count * 100.0) / total_count if total_count else 0\n",
    "        print(f\"Percentage of {tumor_name} examples: {percentage:.2f}%, number of {tumor_name} examples: {count}\")"
   ]
  },
  {
   "cell_type": "code",
   "execution_count": 7,
   "metadata": {},
   "outputs": [
    {
     "name": "stdout",
     "output_type": "stream",
     "text": [
      "Number of examples: 13059\n",
      "Percentage of Glioma examples: 33.38%, number of Glioma examples: 4359\n",
      "Percentage of Meningioma examples: 33.30%, number of Meningioma examples: 4348\n",
      "Percentage of Pituitary Tumor examples: 33.33%, number of Pituitary Tumor examples: 4352\n"
     ]
    }
   ],
   "source": [
    "# Display data summary\n",
    "data_summary(augmented_dir)"
   ]
  }
 ],
 "metadata": {
  "kernelspec": {
   "display_name": "venv",
   "language": "python",
   "name": "python3"
  },
  "language_info": {
   "codemirror_mode": {
    "name": "ipython",
    "version": 3
   },
   "file_extension": ".py",
   "mimetype": "text/x-python",
   "name": "python",
   "nbconvert_exporter": "python",
   "pygments_lexer": "ipython3",
   "version": "3.12.5"
  }
 },
 "nbformat": 4,
 "nbformat_minor": 2
}
