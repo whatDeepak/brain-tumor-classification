{
 "cells": [
  {
   "cell_type": "code",
   "execution_count": 6,
   "metadata": {},
   "outputs": [],
   "source": [
    "import numpy as np \n",
    "import cv2\n",
    "import os\n",
    "from os import listdir\n",
    "import shutil\n",
    "import itertools\n",
    "import imutils\n",
    "from tqdm import tqdm\n",
    "from PIL import Image"
   ]
  },
  {
   "cell_type": "code",
   "execution_count": 7,
   "metadata": {},
   "outputs": [],
   "source": [
    "def crop_brain_contour(image, plot=False):\n",
    "    \n",
    "    # Convert the image to grayscale, and blur it slightly\n",
    "    gray = cv2.cvtColor(image, cv2.COLOR_BGR2GRAY)\n",
    "    gray = cv2.GaussianBlur(gray, (5, 5), 0)\n",
    "\n",
    "    # Threshold the image, then perform a series of erosions +\n",
    "    # dilations to remove any small regions of noise\n",
    "    thresh = cv2.threshold(gray, 45, 255, cv2.THRESH_BINARY)[1]\n",
    "    thresh = cv2.erode(thresh, None, iterations=2)\n",
    "    thresh = cv2.dilate(thresh, None, iterations=2)\n",
    "\n",
    "    # Find contours in thresholded image, then grab the largest one\n",
    "    cnts = cv2.findContours(thresh.copy(), cv2.RETR_EXTERNAL, cv2.CHAIN_APPROX_SIMPLE)\n",
    "    cnts = imutils.grab_contours(cnts)\n",
    "    c = max(cnts, key=cv2.contourArea)\n",
    "    \n",
    "\n",
    "    # Find the extreme points\n",
    "    extLeft = tuple(c[c[:, :, 0].argmin()][0])\n",
    "    extRight = tuple(c[c[:, :, 0].argmax()][0])\n",
    "    extTop = tuple(c[c[:, :, 1].argmin()][0])\n",
    "    extBot = tuple(c[c[:, :, 1].argmax()][0])\n",
    "    \n",
    "    # crop new image out of the original image using the four extreme points (left, right, top, bottom)\n",
    "    new_image = image[extTop[1]:extBot[1], extLeft[0]:extRight[0]]            \n",
    "\n",
    "    if plot:\n",
    "        plt.figure()\n",
    "\n",
    "        plt.subplot(1, 2, 1)\n",
    "        plt.imshow(image)\n",
    "        \n",
    "        plt.tick_params(axis='both', which='both', \n",
    "                        top=False, bottom=False, left=False, right=False,\n",
    "                        labelbottom=False, labeltop=False, labelleft=False, labelright=False)\n",
    "        \n",
    "        plt.title('Original Image')\n",
    "            \n",
    "        plt.subplot(1, 2, 2)\n",
    "        plt.imshow(new_image)\n",
    "\n",
    "        plt.tick_params(axis='both', which='both', \n",
    "                        top=False, bottom=False, left=False, right=False,\n",
    "                        labelbottom=False, labeltop=False, labelleft=False, labelright=False)\n",
    "\n",
    "        plt.title('Cropped Image')\n",
    "        \n",
    "        plt.show()\n",
    "    \n",
    "    return new_image\n"
   ]
  },
  {
   "cell_type": "code",
   "execution_count": 8,
   "metadata": {},
   "outputs": [],
   "source": [
    "def save_new_images(x_set, y_set, folder_name):\n",
    "    os.makedirs(folder_name, exist_ok=True)\n",
    "    for label in ['1', '2', '3']:\n",
    "        os.makedirs(os.path.join(folder_name, label), exist_ok=True)\n",
    "    \n",
    "    for i, (img, imclass) in enumerate(zip(x_set, y_set)):\n",
    "        cv2.imwrite(f\"{folder_name}/{imclass}/{i}.png\", img)"
   ]
  },
  {
   "cell_type": "code",
   "execution_count": 10,
   "metadata": {},
   "outputs": [
    {
     "name": "stdout",
     "output_type": "stream",
     "text": [
      "Train Set\n",
      "===========\n"
     ]
    },
    {
     "name": "stderr",
     "output_type": "stream",
     "text": [
      "100%|██████████| 566/566 [00:01<00:00, 334.13it/s]\n",
      "100%|██████████| 1140/1140 [00:02<00:00, 392.69it/s]\n",
      "100%|██████████| 744/744 [00:02<00:00, 370.77it/s]\n"
     ]
    },
    {
     "name": "stdout",
     "output_type": "stream",
     "text": [
      "Test Set\n",
      "=========\n"
     ]
    },
    {
     "name": "stderr",
     "output_type": "stream",
     "text": [
      "100%|██████████| 72/72 [00:00<00:00, 105.03it/s]\n",
      "100%|██████████| 144/144 [00:01<00:00, 111.69it/s]\n",
      "100%|██████████| 93/93 [00:00<00:00, 106.48it/s]\n"
     ]
    }
   ],
   "source": [
    "labels = ['1', '2', '3']  # Corresponding to 1: Meningioma, 2: Glioma, 3: Pituitary tumor\n",
    "\n",
    "X_train = []\n",
    "y_train = []\n",
    "X_test = []\n",
    "y_test = []\n",
    "\n",
    "print(\"Train Set\")\n",
    "print(\"===========\")\n",
    "image_size = 240\n",
    "for label in labels:\n",
    "    folderPath = os.path.join(r'C:\\_D\\Uni\\Minor Project\\brain-tumor-classification\\dataset\\split_images', 'train', label)\n",
    "    for file in tqdm(os.listdir(folderPath)):\n",
    "        img = cv2.imread(os.path.join(folderPath, file))\n",
    "        img = crop_brain_contour(img)\n",
    "        img = cv2.resize(img, (image_size, image_size))  # Resize image to the same shape\n",
    "        X_train.append(img)\n",
    "        y_train.append(label)\n",
    "\n",
    "X_train = np.array(X_train)\n",
    "y_train = np.array(y_train)\n",
    "\n",
    "print(\"Test Set\")\n",
    "print(\"=========\")\n",
    "for label in labels:\n",
    "    folderPath = os.path.join(r'C:\\_D\\Uni\\Minor Project\\brain-tumor-classification\\dataset\\split_images', 'test', label)\n",
    "    for file in tqdm(os.listdir(folderPath)):\n",
    "        img = cv2.imread(os.path.join(folderPath, file))\n",
    "        img = crop_brain_contour(img)\n",
    "        img = cv2.resize(img, (image_size, image_size))  # Resize image to the same shape\n",
    "        X_test.append(img)\n",
    "        y_test.append(label)\n",
    "\n",
    "X_test = np.array(X_test)\n",
    "y_test = np.array(y_test)"
   ]
  },
  {
   "cell_type": "code",
   "execution_count": 11,
   "metadata": {},
   "outputs": [
    {
     "name": "stdout",
     "output_type": "stream",
     "text": [
      "Cropped images saved successfully!\n"
     ]
    }
   ],
   "source": [
    "# Save cropped images\n",
    "save_new_images(X_train, y_train, folder_name=r'C:\\_D\\Uni\\Minor Project\\brain-tumor-classification\\dataset\\cropped\\train')\n",
    "save_new_images(X_test, y_test, folder_name=r'C:\\_D\\Uni\\Minor Project\\brain-tumor-classification\\dataset\\cropped\\test')\n",
    "\n",
    "print(\"Cropped images saved successfully!\")"
   ]
  }
 ],
 "metadata": {
  "kernelspec": {
   "display_name": "venv",
   "language": "python",
   "name": "python3"
  },
  "language_info": {
   "codemirror_mode": {
    "name": "ipython",
    "version": 3
   },
   "file_extension": ".py",
   "mimetype": "text/x-python",
   "name": "python",
   "nbconvert_exporter": "python",
   "pygments_lexer": "ipython3",
   "version": "3.12.5"
  }
 },
 "nbformat": 4,
 "nbformat_minor": 2
}
